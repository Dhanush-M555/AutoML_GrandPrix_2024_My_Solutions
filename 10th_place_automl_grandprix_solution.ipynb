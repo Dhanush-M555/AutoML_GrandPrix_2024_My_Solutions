{
 "cells": [
  {
   "cell_type": "code",
   "execution_count": null,
   "metadata": {},
   "outputs": [],
   "source": [
    "#all importing Stuff\n",
    "\n",
    "import pandas as pd\n",
    "import numpy as np\n",
    "from xgboost import *\n",
    "from lightgbm import *\n",
    "from sklearn.ensemble import *"
   ]
  },
  {
   "cell_type": "code",
   "execution_count": null,
   "metadata": {},
   "outputs": [],
   "source": [
    "UseOriginalDataset=False\n",
    "copies=1\n",
    "seed=0"
   ]
  },
  {
   "cell_type": "code",
   "execution_count": null,
   "metadata": {},
   "outputs": [],
   "source": [
    "def get_combined_data(df,original,copies):\n",
    "    for _ in range(copies):\n",
    "        df = pd.concat([df,original],ignore_index=True)\n",
    "    return df"
   ]
  },
  {
   "cell_type": "code",
   "execution_count": null,
   "metadata": {},
   "outputs": [],
   "source": [
    "train=pd.read_csv(\"/kaggle/input/playground-series-s4e6/train.csv\").drop(\"id\",axis=1)\n",
    "test=pd.read_csv(\"/kaggle/input/playground-series-s4e6/test.csv\").drop(\"id\",axis=1)\n",
    "submission=pd.read_csv(\"/kaggle/input/playground-series-s4e6/sample_submission.csv\")\n",
    "origin=pd.read_csv(\"//kaggle/input/predict-students-dropout-and-academic-success/data.csv\")\n",
    "\n",
    "#Target\n",
    "target=\"Target\"\n",
    "\n",
    "print(\"Train Dataset =\",train.shape)\n",
    "display(train)\n",
    "print(\"Test Dataset =\",test.shape)\n",
    "display(test)\n",
    "print(\"Original Dataset =\",origin.shape)\n",
    "display(origin)"
   ]
  },
  {
   "cell_type": "code",
   "execution_count": null,
   "metadata": {},
   "outputs": [],
   "source": [
    "if UseOriginalDataset:\n",
    "    df=get_combined_data(train,origin,copies)\n",
    "else:\n",
    "    df=train.copy()\n"
   ]
  },
  {
   "cell_type": "code",
   "execution_count": null,
   "metadata": {},
   "outputs": [],
   "source": [
    "cat_feats=['Marital status', 'Application mode', 'Course','Daytime/evening attendance', 'Previous qualification', \n",
    "           'Nationality',\"Mother's qualification\", \"Father's qualification\",'Displaced', 'Educational special needs', 'Debtor',\n",
    "       'Tuition fees up to date', 'Gender', 'Scholarship holder',\n",
    "       'Age at enrollment', 'International']"
   ]
  },
  {
   "cell_type": "code",
   "execution_count": null,
   "metadata": {},
   "outputs": [],
   "source": [
    "df[target] = df[target].map({'Graduate':2, 'Dropout': 0,'Enrolled':1})\n",
    "df[target]=df[target].astype(int)\n",
    "train[target] = train[target].map({'Graduate':2, 'Dropout': 0,'Enrolled':1})\n",
    "train[target]=train[target].astype(int)\n",
    "origin[target] = origin[target].map({'Graduate':2, 'Dropout': 0,'Enrolled':1})\n",
    "origin[target]=origin[target].astype(int)"
   ]
  },
  {
   "cell_type": "code",
   "execution_count": null,
   "metadata": {},
   "outputs": [],
   "source": [
    "lgb_params={'objective': 'multiclass',\n",
    "                   'n_estimators': 770,\n",
    "                   'learning_rate': 0.023635608862537988,\n",
    "                   'data_sample_strategy': 'goss',\n",
    "                   'feature_fraction': 0.2841670798274386,\n",
    "                   'tree_learner': 'feature',\n",
    "                   'lambda_l1': 1.9832702497881635e-07, 'lambda_l2': 0.41501187037770015,\n",
    "                   'num_leaves': 888, 'max_depth': 9, 'colsample_bytree': 0.7804414817467027, 'min_child_samples': 126,\n",
    "                   'min_sum_hessian_in_leaf': 5.833100626676496, 'min_gain_to_split': 0.8004030774733167, 'max_bin': 169,\n",
    "                   'top_rate': 0.6338213165561601}\n",
    "\n",
    "xgb_params={'max_depth': 5,\n",
    "             'lambda': 0.04511179009306839,\n",
    "             'alpha': 0.2356856077657757,\n",
    "             'colsample_bytree': 0.9684456706095538,\n",
    "             'subsample': 0.7387404229360499,\n",
    "             'learning_rate': 0.01952985763275396,\n",
    "             'n_estimators': 2665,\n",
    "             'grow_policy': 'depthwise',\n",
    "             'sampling_method': 'gradient_based',\n",
    "             'gamma': 0.0010790912320170717,\n",
    "             'min_child_weight': 79,\n",
    "             'max_leaves': 1457,\n",
    "             'max_delta_step': 3.9096375543686004,\n",
    "             'objective':'multi:softmax',\n",
    "             'eval_metric':'mlogloss',\n",
    "             'random_state':42,\n",
    "             'device':'cuda',\n",
    "             'num_class':3,\n",
    "            }\n",
    "xgb=XGBClassifier(**xgb_params)\n",
    "lgb=LGBMClassifier(**lgb_params,verbose=-1,seed=42,num_class=3\n",
    "                       ,n_jobs=4,\n",
    "                    categorical_feature=[0, 1, 3, 4, 5, 7, 8, 9, 13, 14, 15, 16, 17, 18, 19, 20]\n",
    "                      )"
   ]
  },
  {
   "cell_type": "code",
   "execution_count": null,
   "metadata": {},
   "outputs": [],
   "source": [
    "estimators = [\n",
    "    ('lgb',BaggingClassifier(estimator=lgb,n_estimators=100)),\n",
    "   ('xgb',BaggingClassifier(estimator=xgb,n_estimators=100)),\n",
    "]\n",
    "\n",
    "final_model=VotingClassifier(estimators=estimators,voting='soft')\n",
    "\n",
    "final_model.fit(df.drop(target,axis=1),df[target])\n",
    "\n",
    "preds=final_model.predict(test)\n"
   ]
  },
  {
   "cell_type": "code",
   "execution_count": null,
   "metadata": {},
   "outputs": [],
   "source": [
    "\n",
    "submission[target]=preds\n",
    "submission[target]=submission[target].map({2:'Graduate', 0:'Dropout',1:'Enrolled'})\n",
    "submission[target]=submission[target].astype(str)\n",
    "submission\n",
    "display(submission)\n",
    "submission.to_csv(\"submission.csv\",index=False)"
   ]
  },
  {
   "cell_type": "markdown",
   "metadata": {},
   "source": [
    "### AutoML Solution, it was combined to this https://www.kaggle.com/code/gauravduttakiit/pss4e6-flaml-roc-auc-ovo notebook with mode ensembling...!"
   ]
  },
  {
   "cell_type": "code",
   "execution_count": null,
   "metadata": {},
   "outputs": [],
   "source": []
  }
 ],
 "metadata": {
  "language_info": {
   "name": "python"
  }
 },
 "nbformat": 4,
 "nbformat_minor": 2
}
